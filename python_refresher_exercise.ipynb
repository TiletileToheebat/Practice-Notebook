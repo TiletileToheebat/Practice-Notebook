{
 "cells": [
  {
   "cell_type": "markdown",
   "metadata": {},
   "source": [
    "# Python Refresher Exercise\n",
    "\n",
    "This task covers variables, data types, loops, functions, conditionals, file handling and object-oriented programming. The goal is to demonstrate proficiency in Python basics by solving the provided problems effectively and writing clean, functional code.  \n",
    "\n",
    "**`Welcome!`**  \n"
   ]
  },
  {
   "cell_type": "markdown",
   "metadata": {},
   "source": [
    "**1. Task:** What is 7 to the power of 4?"
   ]
  },
  {
   "cell_type": "code",
   "execution_count": 1,
   "metadata": {},
   "outputs": [
    {
     "name": "stdout",
     "output_type": "stream",
     "text": [
      "Seven to the power of four is *2401*\n"
     ]
    }
   ],
   "source": [
    "# 7 to the power of 4\n",
    "\n",
    "power = 7**4\n",
    "print(f\"Seven to the power of four is *{power}*\")"
   ]
  },
  {
   "cell_type": "markdown",
   "metadata": {},
   "source": [
    "**2.Task** Split this string:\n",
    "\n",
    "    s = \"Hi there Daveworld!\"\n",
    "    \n",
    "**into a list.**"
   ]
  },
  {
   "cell_type": "code",
   "execution_count": 2,
   "metadata": {},
   "outputs": [
    {
     "name": "stdout",
     "output_type": "stream",
     "text": [
      "Here is the splitted string: ['Hi', 'there', 'Daveworld!']\n"
     ]
    }
   ],
   "source": [
    "# split string into a list\n",
    "string = \"Hi there Daveworld!\"\n",
    "split = string.split()\n",
    "print(f\"Here is the splitted string: {split}\")"
   ]
  },
  {
   "cell_type": "markdown",
   "metadata": {},
   "source": [
    "**3.Task** Given this nested list, use indexing to grab the word \"hello\""
   ]
  },
  {
   "cell_type": "code",
   "execution_count": 3,
   "metadata": {},
   "outputs": [
    {
     "name": "stdout",
     "output_type": "stream",
     "text": [
      "This is the grabbed word: ['hello']\n"
     ]
    }
   ],
   "source": [
    "#use indexing to print 'hello' \n",
    "lst = [1,2,[3,4],[5,[100,200,['hello']],23,11],1,7]\n",
    "index_hello = lst[3][1][2]\n",
    "print(f\"This is the grabbed word: {index_hello}\")"
   ]
  },
  {
   "cell_type": "markdown",
   "metadata": {},
   "source": [
    "**4. Task** Given this nest dictionary grab the word \"hello\". Be prepared, this will be annoying/tricky try your best!"
   ]
  },
  {
   "cell_type": "code",
   "execution_count": 4,
   "metadata": {},
   "outputs": [
    {
     "name": "stdout",
     "output_type": "stream",
     "text": [
      "Although, it is tricky but I still grab the word: [hello]\n"
     ]
    }
   ],
   "source": [
    "dic_list = {'k1':[1,2,3,{'tricky':['oh','man','inception',{'target':[1,2,3,'hello']}]}]}\n",
    "grab_hello = dic_list['k1'][3]['tricky'][3]['target'][3]\n",
    "print(f\"Although, it is tricky but I still grab the word: [{grab_hello}]\")"
   ]
  },
  {
   "cell_type": "markdown",
   "metadata": {},
   "source": [
    "**5. Task** What is the main difference between a tuple and a list?"
   ]
  },
  {
   "cell_type": "code",
   "execution_count": 5,
   "metadata": {},
   "outputs": [
    {
     "name": "stdout",
     "output_type": "stream",
     "text": [
      "Tuple Result = TypeError: 'tuple' object does not support item assignment\n",
      "List Result = ['appliso', 'daveworld', 'genAI'].Did you notice any changes, here?.\n",
      "Correct, the first item changed to appliso\n",
      "--------------------------------------------------------------------------------\n",
      "This is the main difference between a tuple and a list\n"
     ]
    }
   ],
   "source": [
    "# The main difference between a tuple and a list is that the former is immutable while the latter is mutable. For example,\n",
    "\n",
    "tuple = (\"sail\", \"daveworld\", \"genAI\")\n",
    "try:\n",
    "    tuple[0] = \"appliso\" #this will raise an error\n",
    "except TypeError: \n",
    "    print(\"Tuple Result = TypeError: 'tuple' object does not support item assignment\")\n",
    "\n",
    "l_words = [\"sail\", \"daveworld\", \"genAI\"]\n",
    "l_words[0] = \"appliso\" #this will raise an error\n",
    "print(f\"List Result = {l_words}.Did you notice any changes, here?.\")\n",
    "print('Correct, the first item changed to appliso')\n",
    "print('----'*20)\n",
    "print(\"This is the main difference between a tuple and a list\")"
   ]
  },
  {
   "cell_type": "markdown",
   "metadata": {},
   "source": [
    "**6. Task** Create a function that grabs the email website domain from a string in the form:\n",
    "\n",
    "    user@domain.com\n",
    "    \n",
    "**So for example, passing \"user@domain.com\" would return: domain.com**"
   ]
  },
  {
   "cell_type": "code",
   "execution_count": 6,
   "metadata": {},
   "outputs": [
    {
     "name": "stdout",
     "output_type": "stream",
     "text": [
      "Your email website domain is: gmail.com\n"
     ]
    }
   ],
   "source": [
    "# create a function that print the email website domain\n",
    "\n",
    "def get_domain(email):\n",
    "    email = email.split(\"@\")\n",
    "    print(f\"Your email website domain is: {email[1]}\")\n",
    "\n",
    "get_domain(\"wande791@gmail.com\")"
   ]
  },
  {
   "cell_type": "markdown",
   "metadata": {},
   "source": [
    "**7.Task** Create a basic function that returns True if the word 'appliso' is contained in the input string. Don't worry about edge cases like a punctuation being attached to the word 'appliso', but do account for capitalization.\n",
    "\n",
    "    string = \"Appliso is a tech company aiming to change the world!\""
   ]
  },
  {
   "cell_type": "code",
   "execution_count": 7,
   "metadata": {},
   "outputs": [
    {
     "data": {
      "text/plain": [
       "True"
      ]
     },
     "execution_count": 7,
     "metadata": {},
     "output_type": "execute_result"
    }
   ],
   "source": [
    "# create  a function that return True if a word is in a string\n",
    "def find_word(string):\n",
    "    if \"appliso\" in string.lower():\n",
    "        return True\n",
    "    else:\n",
    "        return \"Word not found\"\n",
    "\n",
    "find_word(\"Appliso is a tech company aiming to change the world!\")"
   ]
  },
  {
   "cell_type": "markdown",
   "metadata": {},
   "source": [
    "**8. Task** Create a function that counts the number of times the word \"dog\" occurs in a string. Again ignore edge cases."
   ]
  },
  {
   "cell_type": "code",
   "execution_count": 8,
   "metadata": {},
   "outputs": [],
   "source": [
    "# a fuction that counts the number of times a word appears in a string\n",
    "def count_word(string, word):\n",
    "    return string.lower().count(word)"
   ]
  },
  {
   "cell_type": "code",
   "execution_count": 20,
   "metadata": {},
   "outputs": [
    {
     "data": {
      "text/plain": [
       "2"
      ]
     },
     "execution_count": 20,
     "metadata": {},
     "output_type": "execute_result"
    }
   ],
   "source": [
    "# Use the following code to test implementation\n",
    "count_word('This dog runs faster than the other dog dude!', 'dog')"
   ]
  },
  {
   "cell_type": "markdown",
   "metadata": {},
   "source": [
    "**9. Task:** Create a class called Person with attributes name and age. Add a method called introduce that prints, \"Hi, I am [name] and I am [age] years old.\" Instantiate an object and call the introduce method."
   ]
  },
  {
   "cell_type": "code",
   "execution_count": 10,
   "metadata": {},
   "outputs": [
    {
     "name": "stdout",
     "output_type": "stream",
     "text": [
      "Hi, I am Toheebat and I am 10 years old.\n"
     ]
    }
   ],
   "source": [
    "# create a class with attributes\n",
    "class Person:\n",
    "    def __init__(self, name, age):\n",
    "        self.name = name\n",
    "        self.age = age\n",
    "\n",
    "    def introduce(self):\n",
    "        print(f\"Hi, I am {self.name} and I am {self.age} years old.\")\n",
    "\n",
    "#instantiate object\n",
    "person1 = Person(\"Toheebat\", 10)\n",
    "\n",
    "#call the introduce method\n",
    "person1.introduce()\n"
   ]
  },
  {
   "cell_type": "markdown",
   "metadata": {},
   "source": [
    "**10.Task:** Write a Python program to create a text file named sample.txt, write \"Hello, Python!\" to it, and then read the content."
   ]
  },
  {
   "cell_type": "code",
   "execution_count": 3,
   "metadata": {},
   "outputs": [
    {
     "name": "stdout",
     "output_type": "stream",
     "text": [
      "Hello, Python!\n"
     ]
    }
   ],
   "source": [
    "#write  a pyhon program to create a txt file and read its content\n",
    "\n",
    "# Create file\n",
    "with open(\"data/sample.txt\", \"w\") as f:\n",
    "    f.write('Hello, Python!')\n",
    "\n",
    "# Read its content\n",
    "with open(\"data/sample.txt\", \"r\") as f:\n",
    "    content = f.read()\n",
    "\n",
    "print(content)\n"
   ]
  },
  {
   "cell_type": "markdown",
   "metadata": {},
   "source": [
    "**11. Task:** Use a list comprehension to create a list of squares for all numbers from 1 to 10.\n"
   ]
  },
  {
   "cell_type": "code",
   "execution_count": 12,
   "metadata": {},
   "outputs": [
    {
     "name": "stdout",
     "output_type": "stream",
     "text": [
      "[1, 4, 9, 16, 25, 36, 49, 64, 81, 100]\n"
     ]
    }
   ],
   "source": [
    "# create list comprehension for squares\n",
    "\n",
    "square = [x**2 for x in range (1, 11)]\n",
    "print(square)\n",
    "\n"
   ]
  },
  {
   "cell_type": "markdown",
   "metadata": {},
   "source": [
    "**12. Task:** Import the math library and use it to calculate the square root of 16.\n",
    "\n"
   ]
  },
  {
   "cell_type": "code",
   "execution_count": 13,
   "metadata": {},
   "outputs": [
    {
     "data": {
      "text/plain": [
       "4.0"
      ]
     },
     "execution_count": 13,
     "metadata": {},
     "output_type": "execute_result"
    }
   ],
   "source": [
    "#import library\n",
    "from math import sqrt\n",
    "\n",
    "#calculate square root of 16\n",
    "sqrt(16)"
   ]
  },
  {
   "cell_type": "markdown",
   "metadata": {},
   "source": [
    "**13. Task:** Write a Python program that performs the following:  \n",
    "1. Accepts two numbers from the user.  \n",
    "2. Tries to divide the first number by the second.  \n",
    "3. Handles `ZeroDivisionError` if the second number is zero.  \n",
    "4. Handles `ValueError` if the input is not a number.  \n",
    "5. Prints a message when all operations are complete, whether an exception occurred or not.  \n"
   ]
  },
  {
   "cell_type": "code",
   "execution_count": 14,
   "metadata": {},
   "outputs": [
    {
     "name": "stdout",
     "output_type": "stream",
     "text": [
      "Error! Only numbers are allowed.\n",
      "Operation completed. Thank you!\n"
     ]
    }
   ],
   "source": [
    "try:\n",
    "    first_num = int(input(\"Enter your first number: \"))\n",
    "    second_num = int(input(\"Enter yout second number: \"))\n",
    "\n",
    "    result = first_num/second_num\n",
    "    print(result)\n",
    "\n",
    "#handle ZeroDvisionError\n",
    "except ZeroDivisionError:\n",
    "    print(\"ERROR! YOU CCANNOT DIVIDE BY ZERO(0)\")\n",
    "\n",
    "#handle ValueError\n",
    "except ValueError:\n",
    "    print(\"Error! Only numbers are allowed.\")\n",
    "\n",
    "#operations completed wetheer there is an error or not\n",
    "print('Operation completed. Thank you!')"
   ]
  },
  {
   "cell_type": "markdown",
   "metadata": {},
   "source": [
    "**14 Task:** Use lambda expressions and the filter() function to filter out words from a list that don't start with the letter 's'. For example:\n",
    "\n",
    "    seq = ['soup','dog','salad','cat','great']\n",
    "\n",
    "**should be filtered down to:**\n",
    "\n",
    "    ['soup','salad']"
   ]
  },
  {
   "cell_type": "code",
   "execution_count": 15,
   "metadata": {},
   "outputs": [
    {
     "name": "stdout",
     "output_type": "stream",
     "text": [
      "['soup', 'salad']\n"
     ]
    }
   ],
   "source": [
    "# use lambda expressions to filter out words from a list\n",
    "\n",
    "seq = ['soup', 'dog', 'salad', 'cat', 'great']\n",
    "filtered = list(filter(lambda word: word.startswith('s'), seq))\n",
    "print(filtered)"
   ]
  },
  {
   "cell_type": "markdown",
   "metadata": {},
   "source": [
    "### Final Problem\n",
    "\n",
    "**15 Task:** You are given a list of students' scores and a cut-off mark. Write a Python program to determine:  \n",
    "1. The number of students who passed the cut-off mark.  \n",
    "2. The number of students who did not pass the cut-off mark.  \n",
    "3. Print the percentage of students who passed and failed.  \n",
    "\n",
    "**Details:**  \n",
    "- You will be provided a list of scores (e.g., `[45, 78, 88, 56, 90, 34, 65, 77]`).  \n",
    "- The cut-off mark is 50.  \n",
    "\n",
    "Write your program to calculate the above and output the results in a clear format."
   ]
  },
  {
   "cell_type": "code",
   "execution_count": 19,
   "metadata": {},
   "outputs": [
    {
     "name": "stdout",
     "output_type": "stream",
     "text": [
      "Number of students who passed: 6\n",
      "Number of students who failed: 2\n",
      "Percentage of students who passed: 75.00%\n",
      "Percentage of students who failed: 25.00%\n"
     ]
    }
   ],
   "source": [
    "student_scores = [45, 78, 88, 56, 90, 34, 65, 77]\n",
    "\n",
    "# use lambda expressions to filter out students with scores above 50\n",
    "students_above_50 = len(list(filter(lambda score: score >= 50, student_scores)))\n",
    "\n",
    "#use lambda exp to filter students below 50\n",
    "students_below_50 = len(list(filter(lambda score: score <50, student_scores)))\n",
    "\n",
    "#percenage of students who passed\n",
    "percentage_passed = students_above_50/len(student_scores) * 100\n",
    "\n",
    "#percentage of students who failed\n",
    "percentage_failed = students_below_50/len(student_scores) * 100\n",
    "\n",
    "#print result\n",
    "print(f\"Number of students who passed: {students_above_50}\")\n",
    "print(f\"Number of students who failed: {students_below_50}\")\n",
    "print(f\"Percentage of students who passed: {percentage_passed:.2f}%\")\n",
    "print(f\"Percentage of students who failed: {percentage_failed:.2f}%\")\n"
   ]
  },
  {
   "cell_type": "markdown",
   "metadata": {},
   "source": [
    "# Thank you!"
   ]
  }
 ],
 "metadata": {
  "kernelspec": {
   "display_name": "venv",
   "language": "python",
   "name": "python3"
  },
  "language_info": {
   "codemirror_mode": {
    "name": "ipython",
    "version": 3
   },
   "file_extension": ".py",
   "mimetype": "text/x-python",
   "name": "python",
   "nbconvert_exporter": "python",
   "pygments_lexer": "ipython3",
   "version": "3.10.16"
  }
 },
 "nbformat": 4,
 "nbformat_minor": 2
}
